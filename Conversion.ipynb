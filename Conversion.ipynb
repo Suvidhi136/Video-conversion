{
 "cells": [
  {
   "cell_type": "code",
   "execution_count": 6,
   "metadata": {},
   "outputs": [],
   "source": [
    "import os\n",
    "import ffmpy\n",
    "import speech_recognition as sr\n",
    "import spacy\n",
    "nlp = spacy.load(\"en_core_web_sm\")\n",
    "from stop_words import get_stop_words\n",
    "import pandas as pd"
   ]
  },
  {
   "cell_type": "code",
   "execution_count": 7,
   "metadata": {},
   "outputs": [],
   "source": [
    "##Getting the text from WAV\n",
    "def get_text(filename):\n",
    "    r = sr.Recognizer()\n",
    "    audio = sr.AudioFile(filename)\n",
    "    with audio as source:\n",
    "        r.adjust_for_ambient_noise(source)\n",
    "        final_audio = r.record(source)\n",
    "    ##Converting into text\n",
    "    text = r.recognize_google(final_audio)\n",
    "    return text\n",
    "    \n",
    "    \n",
    "## Getting the list of suburbs\n",
    "def get_subs(filename):\n",
    "    data = pd.read_csv(filename)\n",
    "    list_subs = []\n",
    "    for ind,row in data.iterrows():\n",
    "        list_subs.append(row[\"lol\"])\n",
    "        list_subs.append(row[\"lol1\"])\n",
    "        list_subs.append(row[\"lol2\"])\n",
    "        list_subs.append(row[\"lol3\"])\n",
    "    list_subs = list_subs[:-3]\n",
    "    list_subs.append(\"Cranebrook\")\n",
    "    return list_subs\n",
    "\n",
    "list_of_suburbs = get_subs(\"suburbs.csv\")\n",
    "\n",
    "## Getting the details to fill the form \n",
    "def print_all(text):\n",
    "    doc = nlp(text)\n",
    "    for entity in doc.ents:\n",
    "        print(entity.text, entity.label_)\n",
    "        \n",
    "#extracting the name from the text. \n",
    "def get_name(text): \n",
    "    doc = nlp(text)\n",
    "    count = 0\n",
    "    for entity in doc.ents:\n",
    "        if entity.label_ == \"PERSON\" and entity.text not in list_of_suburbs:\n",
    "            return(entity.text)  \n",
    "        if count >= 1:\n",
    "            return(\"NA\")\n",
    "    return(\"NA\")\n",
    "\n",
    "\n",
    "##Getting the location \n",
    "def get_location(text, list_of_suburbs):\n",
    "    for i in list_of_suburbs:\n",
    "        if i in text:\n",
    "            return i\n",
    "    return \"NA\"\n",
    "\n",
    "## Getting the age of the person.\n",
    "def get_age(text):\n",
    "    doc = nlp(text)\n",
    "    for entity in doc.ents:\n",
    "        if entity.label_ in [\"DATE\", \"CARDINAL\"]:\n",
    "            return (entity.text)\n",
    "    return \"NA\"\n",
    "\n",
    "##Name of university \n",
    "def get_edu(text):\n",
    "    doc = nlp(text)\n",
    "    for entity in doc.ents:\n",
    "        if entity.label_ == \"ORG\" :\n",
    "            return (entity.text)\n",
    "    return \"NA\"\n",
    "\n",
    "\n",
    "## Level of education. \n",
    "def get_level_edu(text):\n",
    "    text = text.lower()\n",
    "    levels = ['masters', 'bachelors', 'diploma', 'graduation', 'high school', 'graduation']\n",
    "    for i in levels:\n",
    "        if i in text:\n",
    "            return i\n",
    "    else:\n",
    "        return \"NA\"\n",
    "    \n",
    "\n",
    "    \n",
    "    "
   ]
  },
  {
   "cell_type": "code",
   "execution_count": 8,
   "metadata": {},
   "outputs": [],
   "source": [
    "##Converting the mp4 into WAV Audio files\n",
    "for filename in os.listdir():\n",
    "    actual_filename = filename[:-4]\n",
    "    if(filename.endswith(\".mp4\")):\n",
    "        os.system('ffmpeg -i {} -acodec pcm_s16le -ar 16000 {}.wav'.format(filename, actual_filename))\n",
    "    else:\n",
    "        continue\n"
   ]
  },
  {
   "cell_type": "code",
   "execution_count": 9,
   "metadata": {},
   "outputs": [
    {
     "name": "stdout",
     "output_type": "stream",
     "text": [
      "Translation of intro_2: \n",
      " vitamins rage on 38 from Crows Nest in Sydney qualified in construction management with close to 7 years experience with a head contractor in estimating capacity in addition to that I've got about 14 years experience working within recruitment both for an external tired as well as running my own business and I've looked in the construction New South Wales markets also focused approach Australia and South East Asia and the Middle East I'm looking for new opportunities so please look at my profile and you got any questions please get in touch thank you\n",
      "Name: NA\n",
      "Location: Crows Nest\n",
      "AGE: 38\n",
      "Level of education: NA\n",
      "Education: NA\n",
      "\n",
      "\n",
      "Translation of intro_roy: \n",
      " hey guys my name is Roy and I'm 20 years old I completed my masters from the University of Sydney I had recently work for a organisation called getting spoken as a data scientist oh well I have a number of skills that include byton Java and see I'm currently looking for a job in the information technology sector\n",
      "Name: Roy\n",
      "Location: NA\n",
      "AGE: 20 years old\n",
      "Level of education: masters\n",
      "Education: the University of Sydney\n",
      "\n",
      "\n",
      "Translation of Maddison_intro: \n",
      " my name is Madison I'm 24 years old and I completed my masters from University of New South Wales I recently worked at Yahoo in the position of the state analyst associate my programming skills include Python Java Ruby I'm currently looking for a job in the information technology sector\n",
      "Name: Madison\n",
      "Location: NA\n",
      "AGE: 24 years old\n",
      "Level of education: masters\n",
      "Education: University of New South Wales\n",
      "\n",
      "\n",
      "Translation of Hannah_intro: \n",
      " hey my name is Hannah I'm 25 years old and doing my masters of iit at UNSW and I live in Kensington I recently world that different Technologies as a data scientist and I am proficient in SQL Python and Java and I'm looking for work in the information technology sector\n",
      "Name: Hannah\n",
      "Location: Kensington\n",
      "AGE: 25 years old\n",
      "Level of education: masters\n",
      "Education: UNSW\n",
      "\n",
      "\n",
      "Translation of mark_intro: \n",
      " hello my name is Mark I'm 22 years old and I completed my masters sun University of Sydney and I currently 7 Kingsford recently worked for an organisation call Goldman Sachs as a data scientist skill which includes coding language such as by 10 Java cplusplus shisha I'm currently looking for job in information technology sector\n",
      "Name: Mark\n",
      "Location: Kingsford\n",
      "AGE: 22 years old\n",
      "Level of education: masters\n",
      "Education: University of Sydney\n",
      "\n",
      "\n",
      "Translation of susan_intro: \n",
      " hi my name is Susan and my age is 27 I completed my masters in hotel management from Kings Cross University and currently living in Kingsford I have worked as a wooden manager for the star I am punctual and hard-working person I am currently looking for a job in the hospitality sector\n",
      "Name: Susan\n",
      "Location: Kingsford\n",
      "AGE: 27\n",
      "Level of education: masters\n",
      "Education: Kings Cross University\n",
      "\n",
      "\n"
     ]
    }
   ],
   "source": [
    "##Converting the Audio files into text \n",
    "for filename in os.listdir():\n",
    "    actual_filename = filename[:-4]\n",
    "    if(filename.endswith(\".wav\")):\n",
    "        text = get_text(filename)\n",
    "        print(f\"Translation of {actual_filename}: \\n\", text)\n",
    "        #print_all(text)\n",
    "        print(f\"Name: {get_name(text)}\")\n",
    "        print(f\"Location: {get_location(text, list_of_suburbs)}\")\n",
    "        print(f\"AGE: {get_age(text)}\")\n",
    "        print(f\"Level of education: {get_level_edu(text)}\")\n",
    "        print(f\"Education: {get_edu(text)}\")\n",
    "        print(\"\\n\")\n"
   ]
  },
  {
   "cell_type": "markdown",
   "metadata": {},
   "source": [
    "## TESTING"
   ]
  },
  {
   "cell_type": "code",
   "execution_count": null,
   "metadata": {},
   "outputs": [],
   "source": [
    "##Testing function\n",
    "text = get_text(\"intro_roy.wav\")\n",
    "text = \" vitamins rage on 38 from Crows Nest in Sydney qualified in construction management with close to 7 years experience with a head contractor in estimating capacity in addition to that I've got about 14 years experience working within recruitment both for an external tired as well as running my own business and I've looked in the construction New South Wales markets also focused approach Australia and South East Asia and the Middle East I'm looking for new opportunities so please look at my profile and you got any questions please get in touch thank you\""
   ]
  },
  {
   "cell_type": "code",
   "execution_count": null,
   "metadata": {},
   "outputs": [],
   "source": [
    "#text = \"HELLO my name is kevin and I am 23 years old, I have lived in waterloo ydney\"\n",
    "doc = nlp(text)"
   ]
  },
  {
   "cell_type": "code",
   "execution_count": null,
   "metadata": {},
   "outputs": [],
   "source": [
    "print(\"Noun phrases:\", [chunk.text for chunk in doc.noun_chunks])"
   ]
  },
  {
   "cell_type": "code",
   "execution_count": null,
   "metadata": {},
   "outputs": [],
   "source": [
    "for entity in doc.ents:\n",
    "    print(entity.text, entity.label_)"
   ]
  },
  {
   "cell_type": "code",
   "execution_count": null,
   "metadata": {},
   "outputs": [],
   "source": [
    "text"
   ]
  },
  {
   "cell_type": "code",
   "execution_count": null,
   "metadata": {},
   "outputs": [],
   "source": [
    "## Getting the details to fill the form \n",
    "def print_all(text):\n",
    "    doc = nlp(text)\n",
    "    for entity in doc.ents:\n",
    "        print(entity.text, entity.label_)\n",
    "        \n",
    "#extracting the name from the text. \n",
    "def get_name(text): \n",
    "    doc = nlp(text)\n",
    "    count = 0\n",
    "    for entity in doc.ents:\n",
    "        if entity.label_ == \"PERSON\" and entity.text not in list_of_suburbs:\n",
    "            return(entity.text)  \n",
    "        if count >= 1:\n",
    "            return(\"NA\")\n",
    "    return(\"NA\")\n",
    "\n",
    "\n",
    "\n",
    "def get_location(text, list_of_suburbs):\n",
    "    for i in list_of_suburbs:\n",
    "        if i in text:\n",
    "            return i\n",
    "    return \"NA\"\n",
    "\n",
    "def get_age(text):\n",
    "    doc = nlp(text)\n",
    "    for entity in doc.ents:\n",
    "        if entity.label_ in [\"DATE\", \"CARDINAL\"]:\n",
    "            return (entity.text)\n",
    "    return \"NA\"\n",
    "\n",
    "def get_edu(text):\n",
    "    doc = nlp(text)\n",
    "    for entity in doc.ents:\n",
    "        if entity.label_ == \"ORG\" :\n",
    "            return (entity.text)\n",
    "    return \"NA\"\n",
    "\n",
    "def get_level_edu(text):\n",
    "    text = text.lower()\n",
    "    levels = ['masters', 'bachelors', 'diploma', 'graduation', 'high school', 'graduation']\n",
    "    for i in levels:\n",
    "        if i in text:\n",
    "            return i\n",
    "    else:\n",
    "        return \"NA\"\n",
    "    \n",
    "\n",
    "    \n",
    "    "
   ]
  },
  {
   "cell_type": "code",
   "execution_count": null,
   "metadata": {},
   "outputs": [],
   "source": [
    "list_of_suburbs.remove(\"Sydney\")"
   ]
  },
  {
   "cell_type": "code",
   "execution_count": null,
   "metadata": {},
   "outputs": [],
   "source": [
    "x = nan"
   ]
  },
  {
   "cell_type": "code",
   "execution_count": null,
   "metadata": {},
   "outputs": [],
   "source": []
  }
 ],
 "metadata": {
  "kernelspec": {
   "display_name": "Python 3",
   "language": "python",
   "name": "python3"
  },
  "language_info": {
   "codemirror_mode": {
    "name": "ipython",
    "version": 3
   },
   "file_extension": ".py",
   "mimetype": "text/x-python",
   "name": "python",
   "nbconvert_exporter": "python",
   "pygments_lexer": "ipython3",
   "version": "3.7.6"
  }
 },
 "nbformat": 4,
 "nbformat_minor": 2
}
